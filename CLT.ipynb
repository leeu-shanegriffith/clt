{
 "cells": [
  {
   "cell_type": "markdown",
   "id": "11d90b6d-a804-4c32-94ba-1abbef533049",
   "metadata": {},
   "source": [
    "# Central Limit Theorem\n",
    "I created this interactive guide to help you visualize the Central Limit Theorem. The importance of this theorem cannot be overstated. It will serve as the basis for our discussion of statistical significance for the final few class meetings. \n",
    "\n",
    "Don't worry - it is not necessary for you to understand the code below. Just follow the instructions for each step one at a time. I look forward to seeing you in class on Tuesday morning.\n"
   ]
  },
  {
   "cell_type": "markdown",
   "id": "f00fac99-6515-49ac-a583-54684c93d8c6",
   "metadata": {},
   "source": [
    "## Step 1\n",
    "In this step, we’ll create two populations. The code in the cell below will do two things:\n",
    "\n",
    "- Generate 25,000 random values for each population that represent some data. One population's distribution will be skewed and the other symmetrical. \n",
    "- Plot this data to visually confirm the shape of the distribution.\n",
    "\n",
    "**To Do**: Run the code in the cell below (click on the cell and then select Run, Run Selected Cell from the menu above). Observe the histogram plots that appear. These plots show the distribution of the 25,000 values in each population."
   ]
  },
  {
   "cell_type": "raw",
   "id": "4326b84d-8d80-48d9-bae9-d7e496454145",
   "metadata": {},
   "source": [
    "import matplotlib.pyplot as plt\n",
    "import numpy as np\n",
    "\n",
    "# Generate population data\n",
    "population_size = 25000\n",
    "exp_population_data = np.random.exponential(scale=2, size=population_size)\n",
    "uniform_population_data = np.random.uniform(low=0, high=10, size=population_size)\n",
    "\n",
    "# Set up side-by-side subplots\n",
    "fig, axes = plt.subplots(1, 2, figsize=(14, 5))\n",
    "fig.suptitle(\"Population Distributions\", fontsize=16)\n",
    "\n",
    "# Plot the exponential distribution histogram\n",
    "axes[0].hist(exp_population_data, bins=30, color='coral', edgecolor='black')\n",
    "axes[0].set_title(\"Population A\")\n",
    "axes[0].set_xlabel(\"Value\")\n",
    "axes[0].set_ylabel(\"Frequency\")\n",
    "\n",
    "# Plot the uniform distribution histogram\n",
    "axes[1].hist(uniform_population_data, bins=30, color='skyblue', edgecolor='black')\n",
    "axes[1].set_title(\"Population B\")\n",
    "axes[1].set_xlabel(\"Value\")\n",
    "axes[1].set_ylabel(\"Frequency\")\n",
    "\n",
    "plt.tight_layout(rect=[0, 0.03, 1, 0.95])\n",
    "plt.show()"
   ]
  },
  {
   "cell_type": "markdown",
   "id": "c7f94b23-db83-4aac-bbc3-ee0578abe02a",
   "metadata": {},
   "source": [
    "## Step 2\n",
    "We rarely have the ability to study an entire population. Instead, we rely on sample data to make conclusions (inferences) about a population. In this step, the code below we will select repeated samples from the two populations. Each sample will consist of 30 values chosen at random from the 25,000 values in the population. We will compute the mean of that sample, and then repeat the process 5,000 times. The histogram plots that appear show the distribution of the sample means.  \n",
    "\n",
    "\n",
    "**To Do**: Run the code in the cell below. Observe the histogram plots that appear. Notice that both distributions of sample means appears approximatley Normal regardless of the shape of the population distribution. "
   ]
  },
  {
   "cell_type": "code",
   "execution_count": null,
   "id": "6cb52ed9-b84f-4c42-a348-8cc8b6a85c68",
   "metadata": {},
   "outputs": [],
   "source": [
    "# Generate sample means for each population\n",
    "exp_sample_means = [np.mean(np.random.choice(exp_population_data, sample_size)) for _ in range(num_samples)]\n",
    "uniform_sample_means = [np.mean(np.random.choice(uniform_population_data, sample_size)) for _ in range(num_samples)]\n",
    "\n",
    "# Set up side-by-side subplots\n",
    "fig, axes = plt.subplots(1, 2, figsize=(14, 5))\n",
    "fig.suptitle(\"Distributions of Sample Means\", fontsize=16)\n",
    "\n",
    "# Plot the histogram of sample means for the exponential distribution\n",
    "axes[0].hist(exp_sample_means, bins=30, color='coral', edgecolor='black')\n",
    "axes[0].set_title(\"Samples from Population A\")\n",
    "axes[0].set_xlabel(\"Sample Mean\")\n",
    "axes[0].set_ylabel(\"Frequency\")\n",
    "\n",
    "# Plot the histogram of sample means for the uniform distribution\n",
    "axes[1].hist(uniform_sample_means, bins=30, color='skyblue', edgecolor='black')\n",
    "axes[1].set_title(\"Sample from Population B\")\n",
    "axes[1].set_xlabel(\"Sample Mean\")\n",
    "axes[1].set_ylabel(\"Frequency\")\n",
    "\n",
    "plt.tight_layout(rect=[0, 0.03, 1, 0.95])\n",
    "plt.show()"
   ]
  },
  {
   "cell_type": "markdown",
   "id": "905082ea-bd8d-48b1-89b6-5b02041594b0",
   "metadata": {},
   "source": [
    "## Step 3\n",
    "What you observe is evidence of the Central Limit Theorem, which states:\n",
    "\n",
    "**If the sample size is large enough, the distribution of sample means will be approximately normal regardless of the population distribution.** \n",
    "\n",
    "In this case, we used samples of size 30. That sample size in large enough in most cases except for populations that are extremely skewed. With symmetric populations, a much smaller sample size would work. Since we do not always know about the shape of the population distribution, it is generally accepted that we should choose sample sizes of 30 or more. \n",
    "\n",
    "Interestingly, that's the shape of the distribution is just part of the story. The following equations are also true\n",
    "\n",
    "$$\\mu_{\\scriptscriptstyle X} = \\mu_\\bar{\\scriptscriptstyle X}$$\n",
    "\n",
    "and\n",
    "\n",
    "$$\\sigma_{\\bar{\\scriptscriptstyle X}} = \\frac{\\sigma_{\\scriptscriptstyle X}}{\\sqrt{n}}$$\n",
    "\n",
    "Here's the English version:\n",
    "\n",
    "1. the mean of the distribution of sample means is equal to the mean of the population\n",
    "2. the standard deviation of the distribution of sample means is equal to the standard deviation of the population divided by the square root of the sample size. \n",
    "\n",
    "**To Do**: Run the code in the cell below. Notice how the means of the population and distribution of sample means are essentially equal. Now, divide the standard deviation of each population by the square root of the sample size (30) and compare your result to the standard deviation of the distribution of sample means."
   ]
  },
  {
   "cell_type": "raw",
   "id": "b8af28ff-5ed3-4265-a39a-0b3114dc82bb",
   "metadata": {},
   "source": [
    "# Calculate mean and standard deviation for each population\n",
    "exp_population_mean = np.mean(exp_population_data)\n",
    "exp_population_std_dev = np.std(exp_population_data)\n",
    "uniform_population_mean = np.mean(uniform_population_data)\n",
    "uniform_population_std_dev = np.std(uniform_population_data)\n",
    "\n",
    "# Calculate mean and standard deviation for each sample means distribution\n",
    "exp_sample_means_mean = np.mean(exp_sample_means)\n",
    "exp_sample_means_std_dev = np.std(exp_sample_means)\n",
    "uniform_sample_means_mean = np.mean(uniform_sample_means)\n",
    "uniform_sample_means_std_dev = np.std(uniform_sample_means)\n",
    "\n",
    "# Print the comparison for Population A (Exponential)\n",
    "print(\"Population A (Exponential Distribution):\")\n",
    "print(f\"Population Mean: {exp_population_mean:.2f}, Population Std Dev: {exp_population_std_dev:.2f}\")\n",
    "print(f\"Sample Means Mean: {exp_sample_means_mean:.2f}, Sample Means Std Dev: {exp_sample_means_std_dev:.2f}\")\n",
    "print(\"\\n\")\n",
    "\n",
    "# Print the comparison for Population B (Uniform)\n",
    "print(\"Population B (Uniform Distribution):\")\n",
    "print(f\"Population Mean: {uniform_population_mean:.2f}, Population Std Dev: {uniform_population_std_dev:.2f}\")\n",
    "print(f\"Sample Means Mean: {uniform_sample_means_mean:.2f}, Sample Means Std Dev: {uniform_sample_means_std_dev:.2f}\")"
   ]
  }
 ],
 "metadata": {
  "kernelspec": {
   "display_name": "Python 3 (ipykernel)",
   "language": "python",
   "name": "python3"
  },
  "language_info": {
   "codemirror_mode": {
    "name": "ipython",
    "version": 3
   },
   "file_extension": ".py",
   "mimetype": "text/x-python",
   "name": "python",
   "nbconvert_exporter": "python",
   "pygments_lexer": "ipython3",
   "version": "3.11.8"
  }
 },
 "nbformat": 4,
 "nbformat_minor": 5
}
